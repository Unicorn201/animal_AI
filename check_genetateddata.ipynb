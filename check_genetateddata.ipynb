{
 "cells": [
  {
   "cell_type": "code",
   "execution_count": 1,
   "metadata": {},
   "outputs": [],
   "source": [
    "from PIL import Image\n",
    "import os, glob\n",
    "import numpy as np\n",
    "#import元がsklearn.cross_varidationからsklearn.model_selectionに変更\n",
    "#from sklearn import cross_varidation\n",
    "from sklearn import model_selection\n",
    "\n",
    "classes = [\"monkey\",\"boar\",\"crow\"]\n",
    "num_classes = len(classes)\n",
    "image_size = 50\n",
    "\n",
    "#画像の取り込み\n",
    "\n",
    "X = []\n",
    "Y = []\n",
    "for index , classlabel in enumerate(classes):\n",
    "    photos_dir = \"./\" + classlabel\n",
    "    files  = glob.glob(photos_dir + \"/*.jpg\")\n",
    "    for i , file in enumerate(files):\n",
    "        if i >= 200: break\n",
    "        image = Image.open(file)\n",
    "        image = image.convert(\"RGB\")\n",
    "        image = image.resize((image_size, image_size))\n",
    "        data = np.asarray(image)\n",
    "        X.append(data)\n",
    "        Y.append(index)\n",
    "\n",
    "X = np.array(X)\n",
    "Y = np.array(Y)\n",
    "\n",
    "X_train, X_test, y_train, y_test = model_selection.train_test_split(X, Y)\n",
    "xy = (X_train, X_test, y_train, y_test)\n",
    "np.save(\"./animal.npy\", xy)\n"
   ]
  },
  {
   "cell_type": "code",
   "execution_count": 2,
   "metadata": {},
   "outputs": [
    {
     "data": {
      "text/plain": [
       "381"
      ]
     },
     "execution_count": 2,
     "metadata": {},
     "output_type": "execute_result"
    }
   ],
   "source": [
    "len(X_train\n",
    ")"
   ]
  },
  {
   "cell_type": "code",
   "execution_count": 3,
   "metadata": {},
   "outputs": [
    {
     "data": {
      "text/plain": [
       "128"
      ]
     },
     "execution_count": 3,
     "metadata": {},
     "output_type": "execute_result"
    }
   ],
   "source": [
    "len(X_test)"
   ]
  },
  {
   "cell_type": "code",
   "execution_count": 4,
   "metadata": {},
   "outputs": [
    {
     "data": {
      "text/plain": [
       "381"
      ]
     },
     "execution_count": 4,
     "metadata": {},
     "output_type": "execute_result"
    }
   ],
   "source": [
    "len(y_train)"
   ]
  },
  {
   "cell_type": "code",
   "execution_count": 5,
   "metadata": {},
   "outputs": [
    {
     "data": {
      "text/plain": [
       "128"
      ]
     },
     "execution_count": 5,
     "metadata": {},
     "output_type": "execute_result"
    }
   ],
   "source": [
    "len(y_test)"
   ]
  },
  {
   "cell_type": "code",
   "execution_count": 6,
   "metadata": {},
   "outputs": [
    {
     "data": {
      "text/plain": [
       "array([[[150, 155, 154],\n",
       "        [150, 149, 143],\n",
       "        [156, 151, 145],\n",
       "        ...,\n",
       "        [ 23,  28,  28],\n",
       "        [ 19,  24,  23],\n",
       "        [ 24,  27,  28]],\n",
       "\n",
       "       [[153, 154, 152],\n",
       "        [154, 150, 142],\n",
       "        [155, 152, 149],\n",
       "        ...,\n",
       "        [ 32,  37,  36],\n",
       "        [ 20,  26,  26],\n",
       "        [ 26,  31,  33]],\n",
       "\n",
       "       [[148, 145, 138],\n",
       "        [159, 154, 148],\n",
       "        [156, 152, 156],\n",
       "        ...,\n",
       "        [ 30,  35,  34],\n",
       "        [ 29,  36,  35],\n",
       "        [ 26,  32,  34]],\n",
       "\n",
       "       ...,\n",
       "\n",
       "       [[ 52,  48,  34],\n",
       "        [ 57,  53,  34],\n",
       "        [ 58,  53,  34],\n",
       "        ...,\n",
       "        [142, 133,  95],\n",
       "        [146, 135,  94],\n",
       "        [135, 121,  79]],\n",
       "\n",
       "       [[ 63,  63,  49],\n",
       "        [ 46,  43,  31],\n",
       "        [ 48,  44,  32],\n",
       "        ...,\n",
       "        [ 87,  81,  60],\n",
       "        [120, 111,  78],\n",
       "        [122, 111,  77]],\n",
       "\n",
       "       [[ 94,  97,  76],\n",
       "        [ 62,  62,  47],\n",
       "        [ 50,  46,  35],\n",
       "        ...,\n",
       "        [ 65,  64,  57],\n",
       "        [ 83,  77,  65],\n",
       "        [117, 111,  86]]], dtype=uint8)"
      ]
     },
     "execution_count": 6,
     "metadata": {},
     "output_type": "execute_result"
    }
   ],
   "source": [
    "X_train[100]"
   ]
  },
  {
   "cell_type": "code",
   "execution_count": 7,
   "metadata": {},
   "outputs": [
    {
     "data": {
      "text/plain": [
       "0"
      ]
     },
     "execution_count": 7,
     "metadata": {},
     "output_type": "execute_result"
    }
   ],
   "source": [
    "y_train[100]"
   ]
  },
  {
   "cell_type": "code",
   "execution_count": 8,
   "metadata": {},
   "outputs": [
    {
     "data": {
      "text/plain": [
       "(381, 50, 50, 3)"
      ]
     },
     "execution_count": 8,
     "metadata": {},
     "output_type": "execute_result"
    }
   ],
   "source": [
    "X_train.shape"
   ]
  },
  {
   "cell_type": "code",
   "execution_count": 9,
   "metadata": {},
   "outputs": [
    {
     "data": {
      "text/plain": [
       "(50, 50, 3)"
      ]
     },
     "execution_count": 9,
     "metadata": {},
     "output_type": "execute_result"
    }
   ],
   "source": [
    "X_train.shape[1:]"
   ]
  },
  {
   "cell_type": "code",
   "execution_count": null,
   "metadata": {},
   "outputs": [],
   "source": []
  }
 ],
 "metadata": {
  "kernelspec": {
   "display_name": "Python 3",
   "language": "python",
   "name": "python3"
  },
  "language_info": {
   "codemirror_mode": {
    "name": "ipython",
    "version": 3
   },
   "file_extension": ".py",
   "mimetype": "text/x-python",
   "name": "python",
   "nbconvert_exporter": "python",
   "pygments_lexer": "ipython3",
   "version": "3.7.7"
  }
 },
 "nbformat": 4,
 "nbformat_minor": 4
}
